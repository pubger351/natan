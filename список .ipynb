{
 "cells": [
  {
   "cell_type": "code",
   "execution_count": 4,
   "id": "7e7f9ad9",
   "metadata": {},
   "outputs": [
    {
     "name": "stdout",
     "output_type": "stream",
     "text": [
      "2\n",
      "4\n",
      "[[92, 39], [42, 54], [57, 69], [39, 92]]\n"
     ]
    }
   ],
   "source": [
    "import random\n",
    "def F(a,b):\n",
    "    o_list = []\n",
    "    a_list = []\n",
    "    n = 0\n",
    "    while (n < b):\n",
    "        a_list = []\n",
    "        m = 0\n",
    "        while (m < a):\n",
    "            a_list.append(random.randint(0,100))\n",
    "            m = m + 1\n",
    "        o_list.append(a_list)\n",
    "        n = n + 1\n",
    "    return print (o_list)\n",
    "a = int(input())\n",
    "b = int(input())\n",
    "F(a,b)"
   ]
  },
  {
   "cell_type": "code",
   "execution_count": null,
   "id": "00c3b4ef",
   "metadata": {},
   "outputs": [],
   "source": []
  },
  {
   "cell_type": "code",
   "execution_count": null,
   "id": "c8eeb79f",
   "metadata": {},
   "outputs": [],
   "source": []
  }
 ],
 "metadata": {
  "kernelspec": {
   "display_name": "Python 3",
   "language": "python",
   "name": "python3"
  },
  "language_info": {
   "codemirror_mode": {
    "name": "ipython",
    "version": 3
   },
   "file_extension": ".py",
   "mimetype": "text/x-python",
   "name": "python",
   "nbconvert_exporter": "python",
   "pygments_lexer": "ipython3",
   "version": "3.8.8"
  }
 },
 "nbformat": 4,
 "nbformat_minor": 5
}
